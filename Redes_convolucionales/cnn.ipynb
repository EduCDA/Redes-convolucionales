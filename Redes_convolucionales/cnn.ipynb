{
 "cells": [
  {
   "cell_type": "markdown",
   "metadata": {},
   "source": [
    "Importaciones"
   ]
  },
  {
   "cell_type": "code",
   "execution_count": 2,
   "metadata": {},
   "outputs": [],
   "source": [
    "import matplotlib.pyplot as plt\n",
    "import numpy as np\n",
    "from PIL import Image\n",
    "import numpy as np\n",
    "from sklearn.model_selection import KFold\n",
    "import tensorflow as tf\n",
    "from tensorflow import keras\n",
    "from tensorflow.keras import layers\n",
    "from tensorflow.keras.models import Sequential\n",
    "import pathlib\n",
    "from sklearn.model_selection import train_test_split\n",
    "from tensorflow.keras.layers import Conv2D, MaxPooling2D, Flatten, Dense, Dropout"
   ]
  },
  {
   "cell_type": "markdown",
   "metadata": {},
   "source": [
    "Descarga de imagenes"
   ]
  },
  {
   "cell_type": "code",
   "execution_count": 3,
   "metadata": {},
   "outputs": [
    {
     "name": "stdout",
     "output_type": "stream",
     "text": [
      "Train Full: (60000, 28, 28), Test: (10000, 28, 28)\n"
     ]
    }
   ],
   "source": [
    "# Cargar el conjunto de datos MNIST\n",
    "(x_train_full, y_train_full), (x_test, y_test) = tf.keras.datasets.mnist.load_data()\n",
    "\n",
    "# Ver formas de los conjuntos de datos\n",
    "print(f\"Train Full: {x_train_full.shape}, Test: {x_test.shape}\")"
   ]
  },
  {
   "cell_type": "code",
   "execution_count": 4,
   "metadata": {},
   "outputs": [
    {
     "data": {
      "image/png": "[encoded data removed]",
      "text/plain": [
       "<Figure size 1000x600 with 15 Axes>"
      ]
     },
     "metadata": {},
     "output_type": "display_data"
    }
   ],
   "source": [
    "fig, axes = plt.subplots(3, 5, figsize=(10, 6))\n",
    "for i, ax in enumerate(axes.flat):\n",
    "    ax.imshow(x_train_full[i], cmap='gray')\n",
    "    ax.set_title(f\"Label: {y_train_full[i]}\")\n",
    "    ax.axis(\"off\")\n",
    "plt.show()"
   ]
  },
  {
   "cell_type": "markdown",
   "metadata": {},
   "source": [
    "- Normalización:\n",
    "Dividimos los valores de los píxeles entre 255 para escalar al rango [0,1]."
   ]
  },
  {
   "cell_type": "code",
   "execution_count": 5,
   "metadata": {},
   "outputs": [],
   "source": [
    "x_train_full, x_test = x_train_full / 255.0, x_test / 255.0  # Normalizar"
   ]
  },
  {
   "cell_type": "markdown",
   "metadata": {},
   "source": [
    "- Añadir una Dimensión de Canal: Las imágenes están en escala de grises, por lo que añadimos una dimensión extra (28, 28, 1)."
   ]
  },
  {
   "cell_type": "code",
   "execution_count": 6,
   "metadata": {},
   "outputs": [],
   "source": [
    "x_train_full = x_train_full[..., np.newaxis]\n",
    "x_test = x_test[..., np.newaxis]"
   ]
  },
  {
   "cell_type": "markdown",
   "metadata": {},
   "source": [
    "- Dividir en Entrenamiento (70%) y Validación (15%)"
   ]
  },
  {
   "cell_type": "code",
   "execution_count": 7,
   "metadata": {},
   "outputs": [],
   "source": [
    "x_train, x_val, y_train, y_val = train_test_split(x_train_full, y_train_full, test_size=0.15, stratify=y_train_full, random_state=42)\n"
   ]
  },
  {
   "cell_type": "markdown",
   "metadata": {},
   "source": [
    "- Generador de aumentación de datos"
   ]
  },
  {
   "cell_type": "code",
   "execution_count": null,
   "metadata": {},
   "outputs": [],
   "source": [
    "from tensorflow.keras.preprocessing.image import ImageDataGenerator\n",
    "\n",
    "# Aumentación de datos para el conjunto de entrenamiento\n",
    "datagen = ImageDataGenerator(\n",
    "    rotation_range=20,  # Rotación aleatoria de la imagen\n",
    "    width_shift_range=0.2,  # Traslación horizontal\n",
    "    height_shift_range=0.2,  # Traslación vertical\n",
    "    shear_range=0.2,  # Corte aleatorio\n",
    "    zoom_range=0.2,  # Zoom aleatorio\n",
    "    horizontal_flip=False, \n",
    "    fill_mode='nearest'  # Método de rellenado de píxeles\n",
    ")"
   ]
  },
  {
   "cell_type": "code",
   "execution_count": null,
   "metadata": {},
   "outputs": [],
   "source": [
    "print(\"Is there a GPU available: \"),\n",
    "print(tf.config.list_physical_devices(\"GPU\"))"
   ]
  },
  {
   "cell_type": "markdown",
   "metadata": {},
   "source": [
    "- Creación del modelo"
   ]
  },
  {
   "cell_type": "code",
   "execution_count": 9,
   "metadata": {},
   "outputs": [],
   "source": [
    "def create_model():\n",
    "    model = tf.keras.Sequential([\n",
    "        tf.keras.layers.Conv2D(32, (3,3), activation='relu', input_shape=(28,28,1)),\n",
    "        tf.keras.layers.MaxPooling2D(2,2),\n",
    "        tf.keras.layers.Conv2D(64, (3,3), activation='relu'),\n",
    "        tf.keras.layers.MaxPooling2D(2,2),\n",
    "        tf.keras.layers.Flatten(),\n",
    "        tf.keras.layers.Dense(128, activation='relu'),\n",
    "        tf.keras.layers.Dropout(0.5),\n",
    "        tf.keras.layers.Dense(10, activation='softmax')\n",
    "    ])\n",
    "    model.compile(optimizer='adam', loss='sparse_categorical_crossentropy', metrics=['accuracy'])\n",
    "    return model"
   ]
  },
  {
   "cell_type": "code",
   "execution_count": 10,
   "metadata": {},
   "outputs": [
    {
     "name": "stderr",
     "output_type": "stream",
     "text": [
      "c:\\Users\\Eduardo\\Desktop\\EntonoTensorflow\\.venv\\Lib\\site-packages\\keras\\src\\layers\\convolutional\\base_conv.py:107: UserWarning: Do not pass an `input_shape`/`input_dim` argument to a layer. When using Sequential models, prefer using an `Input(shape)` object as the first layer in the model instead.\n",
      "  super().__init__(activity_regularizer=activity_regularizer, **kwargs)\n"
     ]
    },
    {
     "name": "stdout",
     "output_type": "stream",
     "text": [
      "Epoch 1/10\n"
     ]
    },
    {
     "name": "stderr",
     "output_type": "stream",
     "text": [
      "c:\\Users\\Eduardo\\Desktop\\EntonoTensorflow\\.venv\\Lib\\site-packages\\keras\\src\\trainers\\data_adapters\\py_dataset_adapter.py:121: UserWarning: Your `PyDataset` class should call `super().__init__(**kwargs)` in its constructor. `**kwargs` can include `workers`, `use_multiprocessing`, `max_queue_size`. Do not pass these arguments to `fit()`, as they will be ignored.\n",
      "  self._warn_if_super_not_called()\n"
     ]
    },
    {
     "name": "stdout",
     "output_type": "stream",
     "text": [
      "\u001b[1m1594/1594\u001b[0m \u001b[32m━━━━━━━━━━━━━━━━━━━━\u001b[0m\u001b[37m\u001b[0m \u001b[1m14s\u001b[0m 8ms/step - accuracy: 0.5615 - loss: 1.2681\n",
      "Epoch 2/10\n",
      "\u001b[1m1594/1594\u001b[0m \u001b[32m━━━━━━━━━━━━━━━━━━━━\u001b[0m\u001b[37m\u001b[0m \u001b[1m12s\u001b[0m 8ms/step - accuracy: 0.8640 - loss: 0.4369\n",
      "Epoch 3/10\n",
      "\u001b[1m1594/1594\u001b[0m \u001b[32m━━━━━━━━━━━━━━━━━━━━\u001b[0m\u001b[37m\u001b[0m \u001b[1m12s\u001b[0m 8ms/step - accuracy: 0.9048 - loss: 0.3100\n",
      "Epoch 4/10\n",
      "\u001b[1m1594/1594\u001b[0m \u001b[32m━━━━━━━━━━━━━━━━━━━━\u001b[0m\u001b[37m\u001b[0m \u001b[1m12s\u001b[0m 8ms/step - accuracy: 0.9246 - loss: 0.2487\n",
      "Epoch 5/10\n",
      "\u001b[1m1594/1594\u001b[0m \u001b[32m━━━━━━━━━━━━━━━━━━━━\u001b[0m\u001b[37m\u001b[0m \u001b[1m12s\u001b[0m 8ms/step - accuracy: 0.9328 - loss: 0.2224\n",
      "Epoch 6/10\n",
      "\u001b[1m1594/1594\u001b[0m \u001b[32m━━━━━━━━━━━━━━━━━━━━\u001b[0m\u001b[37m\u001b[0m \u001b[1m12s\u001b[0m 8ms/step - accuracy: 0.9413 - loss: 0.1957\n",
      "Epoch 7/10\n",
      "\u001b[1m1594/1594\u001b[0m \u001b[32m━━━━━━━━━━━━━━━━━━━━\u001b[0m\u001b[37m\u001b[0m \u001b[1m12s\u001b[0m 8ms/step - accuracy: 0.9431 - loss: 0.1901\n",
      "Epoch 8/10\n",
      "\u001b[1m1594/1594\u001b[0m \u001b[32m━━━━━━━━━━━━━━━━━━━━\u001b[0m\u001b[37m\u001b[0m \u001b[1m12s\u001b[0m 8ms/step - accuracy: 0.9478 - loss: 0.1770\n",
      "Epoch 9/10\n",
      "\u001b[1m1594/1594\u001b[0m \u001b[32m━━━━━━━━━━━━━━━━━━━━\u001b[0m\u001b[37m\u001b[0m \u001b[1m13s\u001b[0m 8ms/step - accuracy: 0.9480 - loss: 0.1766\n",
      "Epoch 10/10\n",
      "\u001b[1m1594/1594\u001b[0m \u001b[32m━━━━━━━━━━━━━━━━━━━━\u001b[0m\u001b[37m\u001b[0m \u001b[1m13s\u001b[0m 8ms/step - accuracy: 0.9518 - loss: 0.1626\n"
     ]
    },
    {
     "data": {
      "text/plain": [
       "<keras.src.callbacks.history.History at 0x278d04d3010>"
      ]
     },
     "execution_count": 10,
     "metadata": {},
     "output_type": "execute_result"
    }
   ],
   "source": [
    "model = create_model()\n",
    "# Ajustar el generador a las imágenes de entrenamiento.\n",
    "datagen.fit(x_train) # Metemos las imagenes de entrenamiento para aplicar la aumentación.\n",
    "\n",
    "# Entrenar el modelo usando el generador de aumentación de datos.\n",
    "model.fit(datagen.flow(x_train, y_train, batch_size=32), epochs=10)"
   ]
  },
  {
   "cell_type": "markdown",
   "metadata": {},
   "source": [
    "- Cargar y Preprocesar la imagen"
   ]
  },
  {
   "cell_type": "code",
   "execution_count": 11,
   "metadata": {},
   "outputs": [],
   "source": [
    "# Función para cargar y preprocesar la imagen con inversión de colores\n",
    "def preprocess_image(image_path):\n",
    "    # Cargar la imagen en escala de grises (debe ser un número manuscrito)\n",
    "    img = Image.open(image_path).convert('L')  # 'L' para convertir a escala de grises\n",
    "    \n",
    "    # Invertir los colores (el fondo blanco se convierte en negro y el número negro en blanco)\n",
    "    img_inverted = Image.eval(img, lambda x: 255 - x)\n",
    "    \n",
    "    # Redimensionar la imagen a 28x28 (tamaño del dataset MNIST)\n",
    "    img_resized = img_inverted.resize((28, 28))\n",
    "    \n",
    "    # Convertir la imagen a un array de numpy\n",
    "    img_array = np.array(img_resized)\n",
    "    \n",
    "    # Normalizar la imagen (dividir por 255 para que esté entre 0 y 1)\n",
    "    img_normalized = img_array / 255.0\n",
    "    \n",
    "    # Añadir una dimensión extra para que sea compatible con la entrada del modelo (28, 28, 1)\n",
    "    img_expanded = np.expand_dims(img_normalized, axis=-1)\n",
    "    \n",
    "    # Añadir la dimensión para el batch (1, 28, 28, 1)\n",
    "    img_batch = np.expand_dims(img_expanded, axis=0)\n",
    "    \n",
    "    return img_batch\n",
    "\n",
    "# Cargar y preprocesar la imagen desde la ruta especificada\n",
    "image_path = \"Imagenes/imagen.png\"\n",
    "preprocessed_image = preprocess_image(image_path)\n"
   ]
  },
  {
   "cell_type": "markdown",
   "metadata": {},
   "source": [
    "- Función para realizar la predicción"
   ]
  },
  {
   "cell_type": "code",
   "execution_count": 12,
   "metadata": {},
   "outputs": [
    {
     "name": "stdout",
     "output_type": "stream",
     "text": [
      "\u001b[1m1/1\u001b[0m \u001b[32m━━━━━━━━━━━━━━━━━━━━\u001b[0m\u001b[37m\u001b[0m \u001b[1m0s\u001b[0m 49ms/step\n"
     ]
    },
    {
     "data": {
      "image/png": "[encoded data removed]",
      "text/plain": [
       "<Figure size 640x480 with 1 Axes>"
      ]
     },
     "metadata": {},
     "output_type": "display_data"
    },
    {
     "name": "stdout",
     "output_type": "stream",
     "text": [
      "El modelo predijo el número: 5\n"
     ]
    }
   ],
   "source": [
    "# Función para predecir el número en la imagen\n",
    "def predict_number(model, image_path):\n",
    "    # Preprocesar la imagen\n",
    "    img_batch = preprocess_image(image_path)\n",
    "    \n",
    "    # Realizar la predicción\n",
    "    prediction = model.predict(img_batch)\n",
    "    \n",
    "    # Obtener la clase con la mayor probabilidad (el número que predice)\n",
    "    predicted_class = np.argmax(prediction)\n",
    "    \n",
    "    # Mostrar la imagen y el número predicho\n",
    "    plt.imshow(img_batch[0, ..., 0], cmap=\"gray\")\n",
    "    plt.title(f\"Predicción: {predicted_class}\")\n",
    "    plt.show()\n",
    "    \n",
    "    return predicted_class\n",
    "\n",
    "# Testear la imagen\n",
    "image_path = \"Imagenes/imagen.png\"  # Cambia esto al camino de tu imagen\n",
    "predicted_number = predict_number(model, image_path)\n",
    "print(f\"El modelo predijo el número: {predicted_number}\")"
   ]
  },
  {
   "cell_type": "markdown",
   "metadata": {},
   "source": [
    "- Predecir varios numeros"
   ]
  },
  {
   "cell_type": "code",
   "execution_count": 22,
   "metadata": {},
   "outputs": [],
   "source": [
    "from PIL import ImageOps\n",
    "def preprocess_digit_image(digit_img):\n",
    "    digit_img = ImageOps.invert(digit_img.convert('L'))\n",
    "    digit_img = digit_img.resize((28, 28))\n",
    "    img_array = np.array(digit_img) / 255.0\n",
    "    img_array = np.expand_dims(img_array, axis=-1)\n",
    "    img_array = np.expand_dims(img_array, axis=0)\n",
    "    return img_array\n",
    "\n",
    "def predict_multiple_digits(model, image_path, num_digits):\n",
    "    image = Image.open(image_path).convert('L')\n",
    "    width, height = image.size\n",
    "    digit_width = width // num_digits\n",
    "\n",
    "    predictions = []\n",
    "\n",
    "    # Aumentamos el tamaño de la figura: ancho depende de num_digits\n",
    "    plt.figure(figsize=(num_digits * 3, 5))  # MÁS grande que antes\n",
    "\n",
    "    for i in range(num_digits):\n",
    "        left = i * digit_width\n",
    "        right = (i + 1) * digit_width\n",
    "        digit_img = image.crop((left, 0, right, height))\n",
    "        img_input = preprocess_digit_image(digit_img)\n",
    "\n",
    "        prediction = model.predict(img_input)\n",
    "        predicted_class = np.argmax(prediction)\n",
    "        predictions.append(predicted_class)\n",
    "\n",
    "        # Mostrar con más tamaño\n",
    "        ax = plt.subplot(1, num_digits, i + 1)\n",
    "        ax.imshow(img_input[0, ..., 0], cmap='gray')\n",
    "        ax.set_title(f\"{predicted_class}\", fontsize=20)\n",
    "        ax.axis('off')\n",
    "\n",
    "    plt.tight_layout()\n",
    "    plt.show()\n",
    "\n",
    "    return predictions"
   ]
  },
  {
   "cell_type": "code",
   "execution_count": 24,
   "metadata": {},
   "outputs": [
    {
     "name": "stdout",
     "output_type": "stream",
     "text": [
      "\u001b[1m1/1\u001b[0m \u001b[32m━━━━━━━━━━━━━━━━━━━━\u001b[0m\u001b[37m\u001b[0m \u001b[1m0s\u001b[0m 57ms/step\n",
      "\u001b[1m1/1\u001b[0m \u001b[32m━━━━━━━━━━━━━━━━━━━━\u001b[0m\u001b[37m\u001b[0m \u001b[1m0s\u001b[0m 43ms/step\n",
      "\u001b[1m1/1\u001b[0m \u001b[32m━━━━━━━━━━━━━━━━━━━━\u001b[0m\u001b[37m\u001b[0m \u001b[1m0s\u001b[0m 51ms/step\n",
      "\u001b[1m1/1\u001b[0m \u001b[32m━━━━━━━━━━━━━━━━━━━━\u001b[0m\u001b[37m\u001b[0m \u001b[1m0s\u001b[0m 46ms/step\n"
     ]
    },
    {
     "data": {
      "image/png": "[encoded data removed]",
      "text/plain": [
       "<Figure size 1200x500 with 4 Axes>"
      ]
     },
     "metadata": {},
     "output_type": "display_data"
    },
    {
     "name": "stdout",
     "output_type": "stream",
     "text": [
      "Números predichos: [np.int64(5), np.int64(7), np.int64(9), np.int64(0)]\n"
     ]
    }
   ],
   "source": [
    "image_path = \"Imagenes/imagenMultiple.png\"  # tu imagen con varios números seguidos\n",
    "num_digits = 4  # Por ejemplo: si son 4 dígitos como 1, 2, 9, 4\n",
    "\n",
    "resultados = predict_multiple_digits(model, image_path, num_digits)\n",
    "print(\"Números predichos:\", resultados)\n"
   ]
  },
  {
   "cell_type": "markdown",
   "metadata": {},
   "source": [
    "- Guardar nuetro modelo en keras"
   ]
  },
  {
   "cell_type": "code",
   "execution_count": 15,
   "metadata": {},
   "outputs": [],
   "source": [
    "model.save(\"modelo.keras\")\n"
   ]
  }
 ],
 "metadata": {
  "kernelspec": {
   "display_name": ".venv",
   "language": "python",
   "name": "python3"
  },
  "language_info": {
   "codemirror_mode": {
    "name": "ipython",
    "version": 3
   },
   "file_extension": ".py",
   "mimetype": "text/x-python",
   "name": "python",
   "nbconvert_exporter": "python",
   "pygments_lexer": "ipython3",
   "version": "3.11.8"
  }
 },
 "nbformat": 4,
 "nbformat_minor": 2
}
